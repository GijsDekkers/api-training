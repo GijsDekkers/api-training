{
 "cells": [
  {
   "cell_type": "code",
   "execution_count": null,
   "metadata": {},
   "outputs": [],
   "source": [
    "import json\n",
    "import pandas as pd\n",
    "import uuid\n",
    "\n",
    "from flask import Flask, Response, request, jsonify"
   ]
  },
  {
   "cell_type": "markdown",
   "metadata": {},
   "source": [
    "### Helper functies"
   ]
  },
  {
   "cell_type": "code",
   "execution_count": null,
   "metadata": {},
   "outputs": [],
   "source": [
    "def get_json_response(body, status_code):\n",
    "    response = Response(\n",
    "            response=json.dumps(body)\n",
    "            ,status=status_code\n",
    "            ,mimetype='application/json'\n",
    "        )\n",
    "    return response"
   ]
  },
  {
   "cell_type": "markdown",
   "metadata": {},
   "source": [
    "### Database\n",
    "Hier kan je een kijkje nemen in de data die beschikbaar is. Deze tabel kan je er bij houden tijdens het ontwikkelen van je API om te testen of bepaalde acties het gewenste resultaat bereiken. Ook kan je de tabel gebruiken om voorbeeld ID's er uit te halen om te testen. Er staat een kopie van `employees` in de root van dit project. Kopieer deze in je data map als je fouten maakt tijdens de laatste opdracht (3)."
   ]
  },
  {
   "cell_type": "code",
   "execution_count": null,
   "metadata": {},
   "outputs": [],
   "source": [
    "employees = pd.read_csv('data/employees.csv')\n",
    "employees"
   ]
  },
  {
   "cell_type": "markdown",
   "metadata": {},
   "source": [
    "### API definitie\n",
    "Hieronder zie je het raamwerk van de API die we gaan bouwen. Veel is al geïmplementeerd, dus dit hoeven we niet meer zelf te doen.\n",
    "De inhoud echter van elk request type is nog ongedefinieerd en moeten we zelf gaan bouwen. Het is belangrijk dat bij elke response de functie `get_json_response()` wordt gebruikt, waarbij de juiste HTML status code wordt meegegeven (zie: https://developer.mozilla.org/en-US/docs/Web/HTTP/Status). Je staat vrij om de API te implementeren zoals je zelf wil, zo lang je API maar geen errors teruggeeft. Het is aan te raden om het niet te ingewikkeld te maken.\n",
    "\n",
    "De volgende stukken moeten worden geïmplementeerd:\n",
    "1. Bij `get_employee_by_id()`: als een ID wordt opgevraagd die niet bestaat, wat zou de API dan terug moeten geven?\n",
    "2. Bij `list_employees()`: geef een json array terug met alle werknemers in de database.\n",
    "3. Bij `add_employee()`: zorg dat er op basis van de juiste body in de POST request een werknemer wordt toegevoegd in de database. Let op: de ID wordt automatisch gegenereerd met de functie `uuid.uuid4()` Deze functie geeft dus geen json response terug, maar doet een bewerking op de database."
   ]
  },
  {
   "cell_type": "code",
   "execution_count": null,
   "metadata": {},
   "outputs": [],
   "source": [
    "app = Flask(__name__)\n",
    "\n",
    "@app.route('/', methods=['GET'])\n",
    "def get_info():\n",
    "    response = get_json_response('Welcome at the D-Data Human Resource API!', status_code=200)\n",
    "    return response\n",
    "\n",
    "\n",
    "@app.route('/employee/<id>', methods=['GET'])\n",
    "def get_employee_by_id(id):\n",
    "    employees = pd.read_csv('data/employees.csv')\n",
    "    employee = employees.query('id == @id')\n",
    "    \n",
    "    if len(employee) == 0:\n",
    "        response = get_json_response('ID not in database', status_code=404)\n",
    "        return response\n",
    "\n",
    "    json_body = employee.to_dict(orient='records')[0]\n",
    "    response = get_json_response(json_body, status_code=200)\n",
    "\n",
    "    return response\n",
    "\n",
    "\n",
    "@app.route('/employee', methods=['GET'])\n",
    "def list_employees():\n",
    "    employees = pd.read_csv('data/employees.csv')\n",
    "    \n",
    "    json_body = employees.to_dict(orient='records')\n",
    "    response = get_json_response(json_body, status_code=200)\n",
    "    return response\n",
    "    \n",
    "\n",
    "@app.route('/employee', methods=['POST'])\n",
    "def add_employee():\n",
    "    body = json.loads(request.get_json())\n",
    "    name = body.get('name')\n",
    "    role = body.get('role')\n",
    "\n",
    "    employees = pd.read_csv('data/employees.csv')\n",
    "    \n",
    "    employee = {\n",
    "        'id': uuid.uuid4(),\n",
    "        'name': name,\n",
    "        'role': role\n",
    "    }\n",
    "\n",
    "    employees = employees._append(employee, ignore_index=True)\n",
    "    employees.to_csv('data/employees.csv', index=False)\n",
    "\n",
    "    return get_json_response('Employee succesfully added', status_code=200)\n",
    "\n",
    "\n",
    "if __name__ == '__main__':\n",
    "    app.run(debug=False, host='0.0.0.0')\n"
   ]
  }
 ],
 "metadata": {
  "kernelspec": {
   "display_name": "api_training",
   "language": "python",
   "name": "python3"
  },
  "language_info": {
   "codemirror_mode": {
    "name": "ipython",
    "version": 3
   },
   "file_extension": ".py",
   "mimetype": "text/x-python",
   "name": "python",
   "nbconvert_exporter": "python",
   "pygments_lexer": "ipython3",
   "version": "3.12.0"
  }
 },
 "nbformat": 4,
 "nbformat_minor": 2
}
