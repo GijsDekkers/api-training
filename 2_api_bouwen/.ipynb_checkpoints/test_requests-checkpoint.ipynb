{
 "cells": [
  {
   "cell_type": "markdown",
   "metadata": {},
   "source": [
    "### Test POST request\n",
    "In principe kun je alle GET requests in je browser testen. Voor andere types requests kan dit niet. Je kan hiervoor een tool zoals Postman gebruiken, maar je kan er ook voor kiezen om de `requests` library te gebruiken. Je kan onderstaand stuk code gebruiken om een nieuwe werknemer toe te voegen."
   ]
  },
  {
   "cell_type": "code",
   "execution_count": null,
   "metadata": {},
   "outputs": [],
   "source": [
    "import json\n",
    "import pandas as pd\n",
    "import requests"
   ]
  },
  {
   "cell_type": "code",
   "execution_count": null,
   "metadata": {},
   "outputs": [],
   "source": [
    "# Before\n",
    "employees = pd.read_csv('data/employees.csv')\n",
    "employees"
   ]
  },
  {
   "cell_type": "code",
   "execution_count": null,
   "metadata": {},
   "outputs": [],
   "source": [
    "# After\n",
    "header = {\n",
    "    'Content-Type': 'application/json'\n",
    "}\n",
    "\n",
    "employee = json.dumps({\n",
    "    'name': '<NAME OF NEW EMPLOYEE>',\n",
    "    'role': '<ROLE OF NEW EMPLOYEE>'\n",
    "})\n",
    "\n",
    "requests.post('http://127.0.0.1:5000/employee', headers=header, json=employee)\n",
    "\n",
    "employees = pd.read_csv('data/employees.csv')\n",
    "employees"
   ]
  },
  {
   "cell_type": "code",
   "execution_count": null,
   "metadata": {},
   "outputs": [],
   "source": []
  }
 ],
 "metadata": {
  "kernelspec": {
   "display_name": "Python 3 (ipykernel)",
   "language": "python",
   "name": "python3"
  },
  "language_info": {
   "codemirror_mode": {
    "name": "ipython",
    "version": 3
   },
   "file_extension": ".py",
   "mimetype": "text/x-python",
   "name": "python",
   "nbconvert_exporter": "python",
   "pygments_lexer": "ipython3",
   "version": "3.11.7"
  }
 },
 "nbformat": 4,
 "nbformat_minor": 4
}
