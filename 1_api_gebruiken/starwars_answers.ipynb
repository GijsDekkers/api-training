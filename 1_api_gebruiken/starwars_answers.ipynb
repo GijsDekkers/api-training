{
 "cells": [
  {
   "cell_type": "markdown",
   "id": "ffe3e4b8-e5e3-4b27-b947-d68e30ed6e13",
   "metadata": {},
   "source": [
    "### Introductie\n",
    "In deze opdracht gaan we gebruik maken van de Star Wars API, ook wel SWAPI genoemd. Dit is een REST API, die we kunnen gebruiken om Star Wars data te bevragen, bijvoorbeeld over karakters en voertuigen. Voordat we beginnen met de opdrachten, is het zinvol om eerst te kijken naar de wijze waarop de API is opgebouwd. De root van de API kan je vinden via de volgende URL: \n",
    "\n",
    "https://swapi.dev/api/\n",
    "\n",
    "Zoals je kan zien, bevat deze API 7 verschillende endpoints, waarmee je een bepaald stuk van de data kan bevragen.\n",
    "In Python kunnen we API's bevragen met de `requests` library. Deze heb je als het goed is al geinstalleerd in je environment.\n",
    "Deze API accepteert alleen `GET` requests, dus je hebt geen `POST`, `PUT`, `DELETE` en `PATCH` nodig. Verder is deze API bedoeld om te leren hoe API's werken. Er is in tegenstelling tot de meeste API's daarom geen authenticatie nodig. De authenticatie geef je normaliter mee door een header mee te geven in je `requests` call, maar dit is dus niet nodig in dit geval. Om toch een voorbeeld hiervan te geven, hoe dit in Python eruit zou zien, zie onderstaande code blok.`"
   ]
  },
  {
   "cell_type": "code",
   "execution_count": null,
   "id": "b7de33b6-5a41-4c32-ac92-3694bc8f996a",
   "metadata": {},
   "outputs": [],
   "source": [
    "import requests\n",
    "\n",
    "url = \"http://www.example.com/\"\n",
    "headers = {\"Content-Type\":\"application/json\",\n",
    "           \"Authorization\": \"<MY_TOKEN>\"}\n",
    "\n",
    "r = requests.get(url=url, headers=headers)"
   ]
  },
  {
   "cell_type": "markdown",
   "id": "e38194b8-938d-44d3-a3b2-3987f53c9a75",
   "metadata": {},
   "source": [
    "### Imports"
   ]
  },
  {
   "cell_type": "code",
   "execution_count": null,
   "id": "9538ea13-20ef-4c26-90d4-024410a02a40",
   "metadata": {},
   "outputs": [],
   "source": [
    "import requests"
   ]
  },
  {
   "cell_type": "markdown",
   "id": "f599e0d7-36b5-450d-b1f9-ea8e2d8ef33b",
   "metadata": {},
   "source": [
    "### Opdracht 1\n",
    "Hoe veel Star Wars karakters zijn er beschikbaar met de API?"
   ]
  },
  {
   "cell_type": "code",
   "execution_count": null,
   "id": "cc17ec70-b558-4f0c-a2f1-0d14a4d1baf0",
   "metadata": {},
   "outputs": [],
   "source": [
    "endpoint = 'https://swapi.dev/api/people' \n",
    "r =  requests.get(url=endpoint)\n",
    "result = r.json()\n",
    "\n",
    "print(f'{result['count']} characters are available in the API')"
   ]
  },
  {
   "cell_type": "markdown",
   "id": "d55081a4-18f4-4432-85c3-f60b752c5996",
   "metadata": {},
   "source": [
    "### Opdracht 2\n",
    "In welke film titels komt Chewbacca voor? \\\n",
    "Hint: gebruik de `search` parameter (zie documentatie)"
   ]
  },
  {
   "cell_type": "code",
   "execution_count": null,
   "id": "53051d0d-b3f1-496a-8833-4b91138728fc",
   "metadata": {},
   "outputs": [],
   "source": [
    "name = 'Chewbacca'\n",
    "endpoint = f'https://swapi.dev/api/people?search={name}' \n",
    "r =  requests.get(url=endpoint)\n",
    "result = r.json()\n",
    "\n",
    "for result in result['results']:\n",
    "    if result['name'] == name:\n",
    "        for film_url in result['films']:\n",
    "            film = requests.get(film_url).json()\n",
    "            print(film['title'])"
   ]
  },
  {
   "cell_type": "markdown",
   "id": "3b2ae8c5-d98c-4609-8b5e-fbd07a5d9a17",
   "metadata": {},
   "source": [
    "### Opdracht 3\n",
    "Welke planeet heeft de grootste populatie? Laat zowel naam en aantal zien. \\\n",
    "Hint: gebruik `next` in de json response om alle pagina's op te vragen."
   ]
  },
  {
   "cell_type": "code",
   "execution_count": null,
   "id": "37bd31d4-6520-485b-b768-4786beb98dbd",
   "metadata": {},
   "outputs": [],
   "source": [
    "endpoint = 'https://swapi.dev/api/planets'\n",
    "r =  requests.get(url=endpoint)\n",
    "result = r.json()\n",
    "\n",
    "planets = list()\n",
    "planets += result['results']\n",
    "\n",
    "while result['next'] is not None:\n",
    "    r =  requests.get(url=result['next'])\n",
    "    result = r.json()\n",
    "    planets += result['results']\n",
    "\n",
    "highest_population = (None, 0)\n",
    "\n",
    "for planet in planets:\n",
    "    name, population = highest_population\n",
    "    \n",
    "    if planet['population'] == 'unknown':\n",
    "        continue \n",
    "        \n",
    "    if int(planet['population']) > int(population):\n",
    "        highest_population = (planet['name'], planet['population'])\n",
    "\n",
    "print(highest_population)"
   ]
  }
 ],
 "metadata": {
  "kernelspec": {
   "display_name": "Python 3 (ipykernel)",
   "language": "python",
   "name": "python3"
  },
  "language_info": {
   "codemirror_mode": {
    "name": "ipython",
    "version": 3
   },
   "file_extension": ".py",
   "mimetype": "text/x-python",
   "name": "python",
   "nbconvert_exporter": "python",
   "pygments_lexer": "ipython3",
   "version": "3.12.0"
  }
 },
 "nbformat": 4,
 "nbformat_minor": 5
}
